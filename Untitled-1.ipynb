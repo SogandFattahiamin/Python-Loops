{
 "cells": [
  {
   "cell_type": "code",
   "execution_count": 1,
   "metadata": {},
   "outputs": [
    {
     "name": "stdout",
     "output_type": "stream",
     "text": [
      "Average Insurance Cost:4400.0dollars.\n",
      "The insurance cost forJudithis1100.0dollars.\n",
      "The insurance cost forJudithis below average.\n",
      "The insurance cost forAbelis2200.0dollars.\n",
      "The insurance cost forAbelis below average.\n",
      "The insurance cost forTysonis3300.0dollars.\n",
      "The insurance cost forTysonis below average.\n",
      "The insurance cost forMarthais4400.0dollars.\n",
      "The insurance cost forMarthais equal to the average.\n",
      "The insurance cost forBeverleyis5500.0dollars.\n",
      "The insurance cost forBeverleyis above average.\n",
      "The insurance cost forDavidis6600.0dollars.\n",
      "The insurance cost forDavidis above average.\n",
      "The insurance cost forAnabelis7700.0dollars.\n",
      "The insurance cost forAnabelis above average.\n",
      "[1100.0, 2200.0, 3300.0, 4400.0, 5500.0, 6600.0, 7700.0]\n"
     ]
    }
   ],
   "source": [
    "names = [\"Judith\", \"Abel\", \"Tyson\", \"Martha\", \"Beverley\", \"David\", \"Anabel\"]\n",
    "estimated_insurance_costs = [1000.0, 2000.0, 3000.0, 4000.0, 5000.0, 6000.0, 7000.0]\n",
    "actual_insurance_costs = [1100.0, 2200.0, 3300.0, 4400.0, 5500.0, 6600.0, 7700.0]\n",
    "\n",
    "total_cost=0\n",
    "for insurance_cost in actual_insurance_costs:\n",
    "   total_cost += insurance_cost\n",
    "\n",
    "average_cost=total_cost/len(actual_insurance_costs)\n",
    "print(\"Average Insurance Cost:\"+ str(average_cost)+ \"dollars.\")\n",
    "\n",
    "for i in range(len(names)):\n",
    "  name=names[i]\n",
    "  insurance_cost=actual_insurance_costs[i]\n",
    "  print(\"The insurance cost for\" + name +\"is\"+ str(insurance_cost)+\"dollars.\")\n",
    "\n",
    "# checks if insurance cost is above average\n",
    "  if insurance_cost > average_cost:\n",
    "   print(\"The insurance cost for\" + name + \"is above average.\")\n",
    " \n",
    "#checks if insurance cost is lower than average\n",
    "  elif insurance_cost<average_cost:\n",
    "   print(\"The insurance cost for\"+name+\"is below average.\")\n",
    "\n",
    "  else:\n",
    "    print(\"The insurance cost for\"+name+\"is equal to the average.\")\n",
    "\n",
    "\n",
    "updated_estimated_costs=[estimated_cost*11/10 for estimated_cost in estimated_insurance_costs]\n",
    "\n",
    "print(updated_estimated_costs)"
   ]
  }
 ],
 "metadata": {
  "kernelspec": {
   "display_name": "Python 3",
   "language": "python",
   "name": "python3"
  },
  "language_info": {
   "codemirror_mode": {
    "name": "ipython",
    "version": 3
   },
   "file_extension": ".py",
   "mimetype": "text/x-python",
   "name": "python",
   "nbconvert_exporter": "python",
   "pygments_lexer": "ipython3",
   "version": "3.13.0"
  }
 },
 "nbformat": 4,
 "nbformat_minor": 2
}
